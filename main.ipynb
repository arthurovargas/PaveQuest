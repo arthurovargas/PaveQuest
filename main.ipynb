{
 "cells": [
  {
   "cell_type": "code",
   "execution_count": 2,
   "metadata": {},
   "outputs": [],
   "source": [
    "import numpy as np\n",
    "from scipy.special import j0, j1\n",
    "import matplotlib.pyplot as plt"
   ]
  },
  {
   "cell_type": "code",
   "execution_count": 3,
   "metadata": {},
   "outputs": [],
   "source": [
    "loadRadius = 0.1 #Radius [m]\n",
    "pressure = 0.67 #Stress [MPa]\n",
    "s = 3*loadRadius #Separation betweeen centers [m]\n",
    "zi = [0.3, 1] # [m] Distance until interface\n",
    "module = [3000, 500, 50] # [MPa] \n",
    "poisson = [0.45, 0.35, 0.4] \n",
    "thickness = [0.3, 0.7] # [m]\n",
    "\n",
    "# m = np.array([1e-10, 0.05, 0.10, 0.20, 0.40, 0.60, 0.80, 1.00, 1.20, 1.40, 1.60,\n",
    "#               1.80, 2.00, 2.20, 2.40, 2.60, 2.80, 3.00, 3.20, 3.40, 3.60, 3.80,\n",
    "#               4.00, 4.20, 4.40, 4.60, 4.80, 5.00, 5.50, 6.00, 6.50, 7.00, 7.50,\n",
    "#               8.00, 8.50, 9.00, 9.50, 10.00, 11.00, 12.00, 13.00, 14.00, 15.00,\n",
    "#               16.00, 17.00, 18.00, 19.00, 20.00, 25.00, 30.00, 35.00, 40.00,\n",
    "#               45.00, 50.00, 55.00, 60.00, 65.00, 70.00, 75.00, 80.00, 85.00,\n",
    "#               90.00, 95.00, 100.00, 110.00, 120.00, 130.00, 140.00, 150.00,\n",
    "#               160.00, 170.00, 180.00, 190.00, 200.00, 210.00, 220.00, 230.00,\n",
    "#               240.00, 250.00, 260.00, 270.00, 280.00, 290.00, 300.00, 350.00,\n",
    "#               400.00, 450.00, 500.00, 600.00, 700.00, 800.00, 900.00, 1000.00,\n",
    "#               2000.00, 10000.00, 100000.00])"
   ]
  },
  {
   "cell_type": "code",
   "execution_count": 4,
   "metadata": {},
   "outputs": [
    {
     "data": {
      "image/png": "[encoded data removed]",
      "text/plain": [
       "<Figure size 640x480 with 1 Axes>"
      ]
     },
     "metadata": {},
     "output_type": "display_data"
    }
   ],
   "source": [
    "totalThickness = sum(thickness)\n",
    "alpha = loadRadius / totalThickness\n",
    "n_k = 10000\n",
    "delta_m = 5\n",
    "limit = n_k * delta_m\n",
    "# The values of m are created with np.linspace and with \n",
    "# np.insert is added 0 to the beginning of the array m \n",
    "m = np.insert(np.linspace(delta_m, limit, n_k) - delta_m / 2, 0, 0.0001)\n",
    "layerToAnalyze = np.array([0, 1])\n",
    "distanceRadial = np.array([0.01, 0.1, 0.2])\n",
    "distanceVertical = np.array([0.299, 0.999])\n",
    "pressureHankel = np.zeros((len(distanceRadial), 1))\n",
    "\n",
    "for i in range(len(distanceRadial)):\n",
    "    besselFuntions = j0(m*distanceRadial[i]) * j1(m * alpha) * delta_m\n",
    "    pressureHankel[i] = pressure * alpha * sum(besselFuntions)\n",
    "\n",
    "fig, ax = plt.subplots()\n",
    "ax.plot(distanceRadial/loadRadius, pressureHankel)\n",
    "plt.show()"
   ]
  },
  {
   "cell_type": "code",
   "execution_count": 5,
   "metadata": {},
   "outputs": [],
   "source": [
    "lambda_i = np.array(zi) / totalThickness # lambda = zi/H\n",
    "subtractLambdas = np.concatenate(([lambda_i[0]], np.diff(lambda_i))) # e^(-m(lambda_i - lambda_i-1))\n",
    "# R = E_i/E_i+1 * (poissonPlusOne_i+1/poissonPlusOne_i)\n",
    "poissonPlusOne = np.array(poisson) + 1\n",
    "modulesRelation = np.divide(module[0:-1], module[1:])\n",
    "poissonRelation = np.divide(poissonPlusOne[1:], poissonPlusOne[0:-1])\n",
    "R = poissonRelation * modulesRelation #Known as R in the books\n",
    "\n",
    "deltaVerticalStress = 0\n",
    "deltaRadialStress = 0"
   ]
  },
  {
   "cell_type": "code",
   "execution_count": 6,
   "metadata": {},
   "outputs": [
    {
     "name": "stderr",
     "output_type": "stream",
     "text": [
      "C:\\Users\\sergi\\AppData\\Local\\Temp\\ipykernel_8976\\4180361161.py:49: RuntimeWarning: overflow encountered in exp\n",
      "  (coefficients[0] - coefficients[2] * (1 - 2 * poisson[0] - m[ii] * distanceVertical/totalThickness)) * np.exp(-m[ii] * (lambda_i[0] - distanceVertical/totalThickness)) +\n",
      "C:\\Users\\sergi\\AppData\\Local\\Temp\\ipykernel_8976\\4180361161.py:48: RuntimeWarning: invalid value encountered in add\n",
      "  deltaVerticalStress += -j0(m[ii]*0.01) * j1(m[ii]*alpha) * delta_m * alpha * pressure * (\n",
      "C:\\Users\\sergi\\AppData\\Local\\Temp\\ipykernel_8976\\4180361161.py:49: RuntimeWarning: invalid value encountered in multiply\n",
      "  (coefficients[0] - coefficients[2] * (1 - 2 * poisson[0] - m[ii] * distanceVertical/totalThickness)) * np.exp(-m[ii] * (lambda_i[0] - distanceVertical/totalThickness)) +\n"
     ]
    }
   ],
   "source": [
    "verticalStress = np.zeros((len(distanceVertical), 1))\n",
    "\n",
    "for jj in range(len(distanceVertical)):\n",
    "    \n",
    "        for ii in range(len(m)):\n",
    "        \n",
    "            F = np.append(np.exp(-m[ii]*subtractLambdas),0)\n",
    "            # Matriz primera capa z=0 sigma_z=-mJ0(m*distanceRadial) y tau_rz=0\n",
    "            x_1 = np.array([[np.exp(-m[ii]*lambda_i[0]), 1, np.exp(-m[ii]*lambda_i[0])*(2*poisson[0]-1), 1-2*poisson[0]],\n",
    "                        [np.exp(-m[ii]*lambda_i[0]), -1, np.exp(-m[ii]*lambda_i[0])*(2*poisson[0]), 2*poisson[0]]])\n",
    "\n",
    "            # Lista de coeficientes desde la segunda capa hasta la ultima capa\n",
    "            nLayers = np.array(module).size\n",
    "            rangeStop = nLayers - 1\n",
    "            unknownCoefficients = nLayers * 4 - 2\n",
    "            M = [np.zeros((4,4)) for i in range(rangeStop)]\n",
    "            N = [np.zeros((4,4)) for i in range(rangeStop)]\n",
    "\n",
    "            for i in range(rangeStop):\n",
    "                \n",
    "                M[i] = np.array([   [1,     F[i],   - 1 + 2 * poisson[i] + m[ii] * lambda_i[i],  (1 - 2 * poisson[i] + m[ii] * lambda_i[i]) * F[i]], \n",
    "                                    [1,     -F[i],  2 * poisson[i] + m[ii] * lambda_i[i],        (2 * poisson[i] - m[ii] * lambda_i[i]) * F[i]], \n",
    "                                    [1,     F[i],   1 + m[ii] * lambda_i[i],                     (-1 + m[ii] * lambda_i[i]) * F[i]], \n",
    "                                    [1,     -F[i],  - 2 + 4 * poisson[i] + m[ii] * lambda_i[i],  (- 2 + 4 * poisson[i] - m[ii] * lambda_i[i]) * F[i]]])\n",
    "                \n",
    "                if i < rangeStop:\n",
    "                    N[i] = np.array([   [F[i+1],            1,      (- 1 + 2 * poisson[i+1] + m[ii] * lambda_i[i]) * F[i+1],         1 - 2 * poisson[i+1] + m[ii] * lambda_i[i]],\n",
    "                                        [F[i+1],            -1,     (2 * poisson[i+1] + m[ii] * lambda_i[i]) * F[i+1],               2 * poisson[i+1] - m[ii] * lambda_i[i]],\n",
    "                                        [R[i] * F[i+1],     R[i],   (1 + m[ii] * lambda_i[i]) * R[i] * F[i+1],                       (-1 + m[ii] * lambda_i[i]) * R[i]],\n",
    "                                        [R[i] * F[i+1],     -R[i],  (- 2 + 4 * poisson[i+1] + m[ii] * lambda_i[i]) * R[i] * F[i+1],  (- 2 + 4 * poisson[i+1] - m[ii] * lambda_i[i]) * R[i]]])\n",
    "\n",
    "            globalArray = np.array(np.zeros((unknownCoefficients, unknownCoefficients + 2)))\n",
    "            globalArray[0:2, 0:4] = x_1\n",
    "\n",
    "            for i, array in enumerate(M):\n",
    "                position = i * 4 + 2\n",
    "                globalArray[position:position + 4,position-2:position + 2] = M[i]\n",
    "                globalArray[position:position + 4, position+2:position + 6] = N[i]\n",
    "\n",
    "            globalArray = np.delete(globalArray, [-2, -4], axis=1)\n",
    "            resultsVector = np.array(np.zeros((unknownCoefficients, 1)))\n",
    "            resultsVector[0] = 1\n",
    "            coefficients = np.linalg.solve(globalArray, resultsVector)\n",
    "            \n",
    "            # Save globalArray in a .csv file\n",
    "            # np.savetxt('globalArray.csv',globalArray, delimiter=\",\")\n",
    "            \n",
    "            deltaVerticalStress += -j0(m[ii]*0.01) * j1(m[ii]*alpha) * delta_m * alpha * pressure * (\n",
    "                (coefficients[0] - coefficients[2] * (1 - 2 * poisson[0] - m[ii] * distanceVertical/totalThickness)) * np.exp(-m[ii] * (lambda_i[0] - distanceVertical/totalThickness)) + \n",
    "                (coefficients[1] + coefficients[4] * (1 - 2 * poisson[0] + m[ii] * distanceVertical/totalThickness)) * np.exp(-m[ii] * (distanceVertical/totalThickness - lambda_i[0])))            \n",
    "    \n",
    "        verticalStress = deltaVerticalStress \n",
    "            "
   ]
  },
  {
   "cell_type": "code",
   "execution_count": 7,
   "metadata": {},
   "outputs": [
    {
     "data": {
      "text/plain": [
       "array([1.36642115e+18,            nan])"
      ]
     },
     "execution_count": 7,
     "metadata": {},
     "output_type": "execute_result"
    }
   ],
   "source": [
    "verticalStress"
   ]
  }
 ],
 "metadata": {
  "kernelspec": {
   "display_name": "Python 3",
   "language": "python",
   "name": "python3"
  },
  "language_info": {
   "codemirror_mode": {
    "name": "ipython",
    "version": 3
   },
   "file_extension": ".py",
   "mimetype": "text/x-python",
   "name": "python",
   "nbconvert_exporter": "python",
   "pygments_lexer": "ipython3",
   "version": "3.11.4"
  },
  "orig_nbformat": 4
 },
 "nbformat": 4,
 "nbformat_minor": 2
}
